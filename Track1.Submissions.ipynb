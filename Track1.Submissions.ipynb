{
 "cells": [
  {
   "cell_type": "markdown",
   "metadata": {},
   "source": [
    "### Form csv-file for submission"
   ]
  },
  {
   "cell_type": "markdown",
   "metadata": {},
   "source": [
    "Select users that suits for submission most"
   ]
  },
  {
   "cell_type": "code",
   "execution_count": 1,
   "metadata": {
    "collapsed": true
   },
   "outputs": [],
   "source": [
    "from classeslib import train_calendar\n",
    "from classeslib import persistence_files\n",
    "from classeslib.predictions_users import PredictionUser, SilentWeeksReader, FutureWeekReader"
   ]
  },
  {
   "cell_type": "code",
   "execution_count": 2,
   "metadata": {
    "collapsed": true
   },
   "outputs": [],
   "source": [
    "submission_users_count = 53979"
   ]
  },
  {
   "cell_type": "code",
   "execution_count": 3,
   "metadata": {
    "collapsed": true
   },
   "outputs": [],
   "source": [
    "#border_weeks_days = range(train_calendar.last_public_day - 20, train_calendar.last_public_day + 1)\n",
    "border_weeks_days = range(train_calendar.last_private_day - 20, train_calendar.last_private_day + 1)\n",
    "border_weeks_days_files = [persistence_files.days_split_catalog + \"train.\" + str(day) + \".csv\" \n",
    "                           for day in border_weeks_days]\n",
    "assert len(border_weeks_days_files) == 21"
   ]
  },
  {
   "cell_type": "code",
   "execution_count": 5,
   "metadata": {},
   "outputs": [],
   "source": [
    "border_weeks_reader = SilentWeeksReader()\n",
    "for day_file in border_weeks_days_files:\n",
    "    border_weeks_reader.read_input_file(day_file)"
   ]
  },
  {
   "cell_type": "code",
   "execution_count": 8,
   "metadata": {},
   "outputs": [],
   "source": [
    "border_weeks_users = {user_id: user for (user_id, user) in border_weeks_reader.users.items() \n",
    "                    if len(user.silent_weeks_d3_categories) > 0}\n",
    "assert len(border_weeks_users) >= submission_users_count"
   ]
  },
  {
   "cell_type": "code",
   "execution_count": 9,
   "metadata": {
    "collapsed": true
   },
   "outputs": [],
   "source": [
    "submission_candidates = sorted(\n",
    "    border_weeks_users.items(),\n",
    "    key = lambda (iser_id, user): user.views,\n",
    "    reverse = True)[:submission_users_count * 2]"
   ]
  },
  {
   "cell_type": "code",
   "execution_count": 13,
   "metadata": {
    "collapsed": true
   },
   "outputs": [],
   "source": [
    "import shelve\n",
    "from classeslib.statistics import StatisticsDumper"
   ]
  },
  {
   "cell_type": "code",
   "execution_count": 14,
   "metadata": {},
   "outputs": [],
   "source": [
    "known_submission_candidates = {}\n",
    "db = shelve.open(persistence_files.public_train_statistics_db_file)\n",
    "for (user_id, user) in submission_candidates:\n",
    "    user_interests_key = StatisticsDumper.user_statistics_key_prefix + user_id\n",
    "    if not db.has_key(user_interests_key):\n",
    "        continue\n",
    "    user_interests = db[user_interests_key]\n",
    "    user.activeness = user_interests.total_views\n",
    "    user.all_d3_categories = user_interests.d3_categories\n",
    "    known_submission_candidates[user_id] = user\n",
    "db.close()\n",
    "\n",
    "assert len(known_submission_candidates) >= submission_users_count"
   ]
  },
  {
   "cell_type": "code",
   "execution_count": 15,
   "metadata": {
    "collapsed": true
   },
   "outputs": [],
   "source": [
    "for user in known_submission_candidates.values():\n",
    "    user.nonsilent_weeks_categories = set(user.all_d3_categories.keys()) - user.silent_weeks_d3_categories"
   ]
  },
  {
   "cell_type": "code",
   "execution_count": 16,
   "metadata": {
    "collapsed": true
   },
   "outputs": [],
   "source": [
    "with_nonsilent_weeks_interests = {user_id : user for (user_id, user) in known_submission_candidates.items()\n",
    "                        if len(user.nonsilent_weeks_categories) > 0 and len (user.silent_weeks_d3_categories) > 0}\n",
    "assert len(with_nonsilent_weeks_interests) >= submission_users_count"
   ]
  },
  {
   "cell_type": "code",
   "execution_count": 19,
   "metadata": {},
   "outputs": [],
   "source": [
    "submission_users = dict(sorted(\n",
    "    with_nonsilent_weeks_interests.items(),\n",
    "    key = lambda (iser_id, user): user.activeness,\n",
    "    reverse = True)[:submission_users_count])\n",
    "assert len(submission_users) == submission_users_count"
   ]
  },
  {
   "cell_type": "markdown",
   "metadata": {},
   "source": [
    "Restore clusters info"
   ]
  },
  {
   "cell_type": "code",
   "execution_count": 21,
   "metadata": {
    "collapsed": true
   },
   "outputs": [],
   "source": [
    "from classeslib.clusterization import UsersClaster\n",
    "import pickle"
   ]
  },
  {
   "cell_type": "code",
   "execution_count": 22,
   "metadata": {
    "collapsed": true
   },
   "outputs": [],
   "source": [
    "with open(persistence_files.cluster_model_file, \"r\") as cluster_file:\n",
    "    clusterization = pickle.load(cluster_file)"
   ]
  },
  {
   "cell_type": "code",
   "execution_count": null,
   "metadata": {},
   "outputs": [],
   "source": [
    "print sorted(set(clusterization.labels_))"
   ]
  },
  {
   "cell_type": "code",
   "execution_count": 24,
   "metadata": {
    "collapsed": true
   },
   "outputs": [],
   "source": [
    "import shelve\n",
    "cluster_categories = {}\n",
    "clusters_categories_db = shelve.open(persistence_files.clusters_categories_db_file)\n",
    "for key in clusters_categories_db.keys():\n",
    "    cluster_categories[key] = clusters_categories_db[key]\n",
    "clusters_categories_db.close()"
   ]
  },
  {
   "cell_type": "code",
   "execution_count": null,
   "metadata": {},
   "outputs": [],
   "source": [
    "print persistence_files.clusters_categories_db_file\n",
    "print sorted(cluster_categories.keys())"
   ]
  },
  {
   "cell_type": "code",
   "execution_count": 26,
   "metadata": {
    "collapsed": true
   },
   "outputs": [],
   "source": [
    "from classeslib.features import build_categories_features_matrix"
   ]
  },
  {
   "cell_type": "code",
   "execution_count": 27,
   "metadata": {
    "collapsed": true
   },
   "outputs": [],
   "source": [
    "def find_user_cluster(user_id, user_interests, cluster_model, clusters_categories):\n",
    "    user_features = build_categories_features_matrix(\n",
    "        d1_categories_sorted, d2_categories_sorted, d3_categories_sorted, {user_id: user_interests})[0]\n",
    "    return cluster_model.predict(user_features)[0]"
   ]
  },
  {
   "cell_type": "code",
   "execution_count": 28,
   "metadata": {},
   "outputs": [
    {
     "name": "stdout",
     "output_type": "stream",
     "text": [
      "924\n"
     ]
    }
   ],
   "source": [
    "(d1_level_statistics,\n",
    " d2_level_statistics,\n",
    " d3_level_statistics) = StatisticsDumper.restore_statistics(persistence_files.public_train_statistics_db_file)\n",
    "\n",
    "d1_categories_sorted = sorted(d1_level_statistics.categories_statistics.keys(),\n",
    "                       key = lambda c : d1_level_statistics.categories_statistics[c],\n",
    "                       reverse=True)\n",
    "d2_categories_sorted = sorted(d2_level_statistics.categories_statistics.keys(),\n",
    "                       key = lambda c : d2_level_statistics.categories_statistics[c],\n",
    "                       reverse=True)\n",
    "d3_categories_sorted = sorted(d3_level_statistics.categories_statistics.keys(),\n",
    "                       key = lambda c : d3_level_statistics.categories_statistics[c],\n",
    "                       reverse=True)\n",
    "print len(d3_categories_sorted)"
   ]
  },
  {
   "cell_type": "code",
   "execution_count": 32,
   "metadata": {
    "collapsed": true
   },
   "outputs": [],
   "source": [
    "submission_users_file = \"./db/submission_users.db\"\n",
    "submission_users_interests_file = \"./db/submission_users_interests_file.db\"\n",
    "import shelve"
   ]
  },
  {
   "cell_type": "code",
   "execution_count": 30,
   "metadata": {
    "collapsed": true
   },
   "outputs": [],
   "source": [
    "submission_users_interests = {}\n",
    "db = shelve.open(persistence_files.public_train_statistics_db_file)\n",
    "for user_id in submission_users.keys():\n",
    "    user_interests_key = StatisticsDumper.user_statistics_key_prefix + user_id\n",
    "    submission_users_interests[user_id] = db[user_interests_key]\n",
    "db.close()"
   ]
  },
  {
   "cell_type": "code",
   "execution_count": 33,
   "metadata": {},
   "outputs": [],
   "source": [
    "submission_users_interests_db = shelve.open(submission_users_interests_file)\n",
    "for (user_id, user) in submission_users_interests.items():\n",
    "    submission_users_interests_db[user_id] = user\n",
    "submission_users_interests_db.close()\n",
    "#submission_users_interests = {}\n",
    "#submission_users_interests_db = shelve.open(submission_users_interests_file)\n",
    "#for user_id in submission_users_interests_db.keys():\n",
    "#    submission_users_interests[user_id] = submission_users_interests_db[user_id]\n",
    "#submission_users_interests_db.close()"
   ]
  },
  {
   "cell_type": "code",
   "execution_count": 34,
   "metadata": {
    "collapsed": true
   },
   "outputs": [],
   "source": [
    "submission_users_db = shelve.open(submission_users_file)\n",
    "for (user_id, user) in submission_users.items():\n",
    "    submission_users_db[user_id] = user\n",
    "submission_users_db.close()\n",
    "#submission_users = {}\n",
    "#submission_users_db = shelve.open(submission_users_file)\n",
    "#for user_id in submission_users_db.keys():\n",
    "#    submission_users[user_id] = submission_users_db[user_id]\n",
    "#submission_users_db.close()\n",
    "#print len(submission_users_interests)\n",
    "#print len(submission_users)"
   ]
  },
  {
   "cell_type": "markdown",
   "metadata": {},
   "source": [
    "Form dataset for Vopal Wabbit"
   ]
  },
  {
   "cell_type": "code",
   "execution_count": 35,
   "metadata": {
    "collapsed": true
   },
   "outputs": [],
   "source": [
    "vw_submission_dataset_file = \"./vw_submission_dataset\"\n",
    "submission_categories_count = 5"
   ]
  },
  {
   "cell_type": "code",
   "execution_count": 37,
   "metadata": {
    "collapsed": true
   },
   "outputs": [],
   "source": [
    "from tqdm import tqdm\n",
    "from classeslib.vw_datasets import VwDatasetWriter\n",
    "from classeslib.candidates import get_candidate_categories"
   ]
  },
  {
   "cell_type": "code",
   "execution_count": 40,
   "metadata": {},
   "outputs": [
    {
     "name": "stderr",
     "output_type": "stream",
     "text": [
      "100%|██████████| 53979/53979 [13:36<00:00, 66.14it/s]\n"
     ]
    }
   ],
   "source": [
    "with open(vw_submission_dataset_file, 'w') as submission_dataset:\n",
    "    \n",
    "    dataset_writer = VwDatasetWriter(submission_dataset)\n",
    "    \n",
    "    for (user_id, user) in tqdm(submission_users.items()):  \n",
    "        \n",
    "        silent_week_categories = ' '.join(user.silent_weeks_d3_categories)\n",
    "        assert silent_week_categories != \"\"\n",
    "            \n",
    "        cluster_label = find_user_cluster(\n",
    "            user_id, submission_users_interests[user_id], clusterization, cluster_categories)\n",
    "        \n",
    "        cluster = cluster_categories[str(cluster_label)]\n",
    "            \n",
    "        candidates = get_candidate_categories(\n",
    "            cluster, user_id, user, submission_users_interests, d3_categories_sorted)    \n",
    "        \n",
    "        # write candidates rows to test dataset\n",
    "        for candidate in candidates:\n",
    "            dataset_writer.write(1, user_id, candidate, silent_week_categories)"
   ]
  },
  {
   "cell_type": "markdown",
   "metadata": {},
   "source": [
    "Run VW on the dataset in test mode"
   ]
  },
  {
   "cell_type": "code",
   "execution_count": 41,
   "metadata": {
    "collapsed": true
   },
   "outputs": [],
   "source": [
    "!vw -i vw.track1_model -t vw_submission_dataset -p vw_submission_dataset.out --quiet"
   ]
  },
  {
   "cell_type": "markdown",
   "metadata": {},
   "source": [
    "Select predicted categories"
   ]
  },
  {
   "cell_type": "code",
   "execution_count": 43,
   "metadata": {},
   "outputs": [],
   "source": [
    "from classeslib.candidates import get_users_predicted_categories "
   ]
  },
  {
   "cell_type": "code",
   "execution_count": 45,
   "metadata": {},
   "outputs": [],
   "source": [
    "y_pred = get_users_predicted_categories(\n",
    "    vw_submission_dataset_file, \"./vw_submission_dataset.out\", d3_categories_sorted)"
   ]
  },
  {
   "cell_type": "markdown",
   "metadata": {},
   "source": [
    "Create submission file"
   ]
  },
  {
   "cell_type": "code",
   "execution_count": 46,
   "metadata": {
    "collapsed": true
   },
   "outputs": [],
   "source": [
    "submission_predictions_file = \"predicted_submission.csv\""
   ]
  },
  {
   "cell_type": "code",
   "execution_count": 48,
   "metadata": {},
   "outputs": [],
   "source": [
    "submission_header = \"user_id,id3_1,id3_2,id3_3,id3_4,id3_5\\n\"\n",
    "with open(submission_predictions_file, \"w\") as submision_file:\n",
    "    submision_file.write(submission_header)\n",
    "    for (user_id, categories) in y_pred.items():\n",
    "        assert len(categories) == 5\n",
    "        line = user_id +\",\" + \",\".join(categories) + \"\\n\"\n",
    "        submision_file.write(line)"
   ]
  },
  {
   "cell_type": "code",
   "execution_count": null,
   "metadata": {
    "collapsed": true
   },
   "outputs": [],
   "source": []
  }
 ],
 "metadata": {
  "kernelspec": {
   "display_name": "Python [conda env:py27]",
   "language": "python",
   "name": "conda-env-py27-py"
  },
  "language_info": {
   "codemirror_mode": {
    "name": "ipython",
    "version": 2
   },
   "file_extension": ".py",
   "mimetype": "text/x-python",
   "name": "python",
   "nbconvert_exporter": "python",
   "pygments_lexer": "ipython2",
   "version": "2.7.14"
  }
 },
 "nbformat": 4,
 "nbformat_minor": 2
}
