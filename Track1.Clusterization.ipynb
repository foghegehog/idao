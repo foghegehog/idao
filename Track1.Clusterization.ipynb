{
 "cells": [
  {
   "cell_type": "markdown",
   "metadata": {},
   "source": [
    "### Clusterize users and find most popular categories in each cluster"
   ]
  },
  {
   "cell_type": "markdown",
   "metadata": {},
   "source": [
    "Builds a sparse matrix using amount of views in each category as a feature coordinate"
   ]
  },
  {
   "cell_type": "code",
   "execution_count": 1,
   "metadata": {
    "collapsed": true
   },
   "outputs": [],
   "source": [
    "import numpy as np\n",
    "from classeslib.features import build_categories_features_matrix"
   ]
  },
  {
   "cell_type": "code",
   "execution_count": 2,
   "metadata": {
    "collapsed": true
   },
   "outputs": [],
   "source": [
    "clusters_users_count = 100000\n",
    "from classeslib.statistics import StatisticsDumper\n",
    "from classeslib import persistence_files"
   ]
  },
  {
   "cell_type": "code",
   "execution_count": 3,
   "metadata": {
    "collapsed": true
   },
   "outputs": [],
   "source": [
    "user_ids = StatisticsDumper.get_all_users_ids(persistence_files.public_train_statistics_db_file)\n",
    "train_users_ids = np.random.choice(user_ids, clusters_users_count, replace=False)\n",
    "#train_users_ids = user_ids\n",
    "train_users_interests = StatisticsDumper.get_users_interests(\n",
    "    train_users_ids,\n",
    "    persistence_files.public_train_statistics_db_file)"
   ]
  },
  {
   "cell_type": "code",
   "execution_count": 4,
   "metadata": {},
   "outputs": [
    {
     "name": "stdout",
     "output_type": "stream",
     "text": [
      "924\n"
     ]
    }
   ],
   "source": [
    "(d1_level_statistics,\n",
    " d2_level_statistics,\n",
    " d3_level_statistics) = StatisticsDumper.restore_statistics(persistence_files.public_train_statistics_db_file)\n",
    "\n",
    "d1_categories_sorted = sorted(d1_level_statistics.categories_statistics.keys(),\n",
    "                       key = lambda c : d1_level_statistics.categories_statistics[c],\n",
    "                       reverse=True)\n",
    "d2_categories_sorted = sorted(d2_level_statistics.categories_statistics.keys(),\n",
    "                       key = lambda c : d2_level_statistics.categories_statistics[c],\n",
    "                       reverse=True)\n",
    "d3_categories_sorted = sorted(d3_level_statistics.categories_statistics.keys(),\n",
    "                       key = lambda c : d3_level_statistics.categories_statistics[c],\n",
    "                       reverse=True)\n",
    "print len(d3_categories_sorted)"
   ]
  },
  {
   "cell_type": "code",
   "execution_count": 5,
   "metadata": {
    "collapsed": true
   },
   "outputs": [],
   "source": [
    "train_features_matrix = build_categories_features_matrix(\n",
    "    d1_categories_sorted, d2_categories_sorted, d3_categories_sorted, train_users_interests)"
   ]
  },
  {
   "cell_type": "code",
   "execution_count": 6,
   "metadata": {},
   "outputs": [
    {
     "name": "stdout",
     "output_type": "stream",
     "text": [
      "100000\n",
      "(100000, 1062)\n"
     ]
    }
   ],
   "source": [
    "print len(train_users_interests)\n",
    "print train_features_matrix.shape"
   ]
  },
  {
   "cell_type": "code",
   "execution_count": 21,
   "metadata": {
    "collapsed": true
   },
   "outputs": [],
   "source": [
    "clusters_count = 250"
   ]
  },
  {
   "cell_type": "code",
   "execution_count": 22,
   "metadata": {},
   "outputs": [],
   "source": [
    "from sklearn.decomposition import TruncatedSVD\n",
    "svd = TruncatedSVD(n_components=clusters_count).fit(train_features_matrix)"
   ]
  },
  {
   "cell_type": "code",
   "execution_count": 26,
   "metadata": {},
   "outputs": [],
   "source": [
    "from sklearn.cluster import MiniBatchKMeans\n",
    "clusterization = MiniBatchKMeans(init=svd.components_, n_clusters=clusters_count, n_init=2)\n",
    "users_clusterized = clusterization.fit_predict(train_features_matrix)"
   ]
  },
  {
   "cell_type": "code",
   "execution_count": 27,
   "metadata": {},
   "outputs": [
    {
     "name": "stdout",
     "output_type": "stream",
     "text": [
      "250\n"
     ]
    }
   ],
   "source": [
    "print len(set(clusterization.labels_))"
   ]
  },
  {
   "cell_type": "code",
   "execution_count": 28,
   "metadata": {
    "collapsed": true
   },
   "outputs": [],
   "source": [
    "import pickle\n",
    "with open(persistence_files.cluster_model_file, \"w\") as cluster_file:\n",
    "    pickle.dump(clusterization, cluster_file)"
   ]
  },
  {
   "cell_type": "code",
   "execution_count": 29,
   "metadata": {
    "collapsed": true
   },
   "outputs": [],
   "source": [
    "with open(persistence_files.svd_model_file, \"w\") as pca_file:\n",
    "    pickle.dump(svd, pca_file)"
   ]
  },
  {
   "cell_type": "code",
   "execution_count": 30,
   "metadata": {
    "collapsed": true
   },
   "outputs": [],
   "source": [
    "from classeslib.clusterization import UsersClaster"
   ]
  },
  {
   "cell_type": "code",
   "execution_count": 31,
   "metadata": {
    "collapsed": true
   },
   "outputs": [],
   "source": [
    "def calculate_clusters(users_ids, users_clusters_labels, clusters_model, users_interests):\n",
    "    clusters = {}\n",
    "\n",
    "    row = 0\n",
    "    for user_id in users_ids:\n",
    "        label = users_clusters_labels[row]\n",
    "        center = clusters_model.cluster_centers_[label]\n",
    "        row += 1\n",
    "        if not clusters.has_key(label):\n",
    "            clusters[label] = UsersClaster(label, center)\n",
    "        clusters[label].add_user_d3_categories(users_interests[user_id])\n",
    "        \n",
    "    for cluster in clusters.values():\n",
    "        cluster.d3_categories_sorted = sorted(\n",
    "            cluster.d3_categories_popularity.keys(),\n",
    "            key = lambda d3: cluster.d3_categories_popularity[d3],\n",
    "            reverse = True)\n",
    "        \n",
    "    return clusters "
   ]
  },
  {
   "cell_type": "code",
   "execution_count": 32,
   "metadata": {},
   "outputs": [
    {
     "name": "stdout",
     "output_type": "stream",
     "text": [
      "250\n"
     ]
    }
   ],
   "source": [
    "cluster_categories = calculate_clusters(train_users_ids, users_clusterized, clusterization, train_users_interests)\n",
    "print len(cluster_categories)"
   ]
  },
  {
   "cell_type": "markdown",
   "metadata": {},
   "source": [
    "Persist cluster categories info as well"
   ]
  },
  {
   "cell_type": "code",
   "execution_count": 33,
   "metadata": {
    "collapsed": true
   },
   "outputs": [],
   "source": [
    "import shelve\n",
    "clusters_categories_db = shelve.open(persistence_files.clusters_categories_db_file)\n",
    "for (label, cluster) in cluster_categories.items():\n",
    "    clusters_categories_db[str(label)] = cluster\n",
    "clusters_categories_db.close()"
   ]
  },
  {
   "cell_type": "code",
   "execution_count": 34,
   "metadata": {},
   "outputs": [
    {
     "name": "stdout",
     "output_type": "stream",
     "text": [
      "./db/clusters_categories.db\n",
      "[0, 1, 2, 3, 4, 5, 6, 7, 8, 9, 10, 11, 12, 13, 14, 15, 16, 17, 18, 19, 20, 21, 22, 23, 24, 25, 26, 27, 28, 29, 30, 31, 32, 33, 34, 35, 36, 37, 38, 39, 40, 41, 42, 43, 44, 45, 46, 47, 48, 49, 50, 51, 52, 53, 54, 55, 56, 57, 58, 59, 60, 61, 62, 63, 64, 65, 66, 67, 68, 69, 70, 71, 72, 73, 74, 75, 76, 77, 78, 79, 80, 81, 82, 83, 84, 85, 86, 87, 88, 89, 90, 91, 92, 93, 94, 95, 96, 97, 98, 99, 100, 101, 102, 103, 104, 105, 106, 107, 108, 109, 110, 111, 112, 113, 114, 115, 116, 117, 118, 119, 120, 121, 122, 123, 124, 125, 126, 127, 128, 129, 130, 131, 132, 133, 134, 135, 136, 137, 138, 139, 140, 141, 142, 143, 144, 145, 146, 147, 148, 149, 150, 151, 152, 153, 154, 155, 156, 157, 158, 159, 160, 161, 162, 163, 164, 165, 166, 167, 168, 169, 170, 171, 172, 173, 174, 175, 176, 177, 178, 179, 180, 181, 182, 183, 184, 185, 186, 187, 188, 189, 190, 191, 192, 193, 194, 195, 196, 197, 198, 199, 200, 201, 202, 203, 204, 205, 206, 207, 208, 209, 210, 211, 212, 213, 214, 215, 216, 217, 218, 219, 220, 221, 222, 223, 224, 225, 226, 227, 228, 229, 230, 231, 232, 233, 234, 235, 236, 237, 238, 239, 240, 241, 242, 243, 244, 245, 246, 247, 248, 249]\n"
     ]
    }
   ],
   "source": [
    "print persistence_files.clusters_categories_db_file\n",
    "print cluster_categories.keys()"
   ]
  },
  {
   "cell_type": "markdown",
   "metadata": {},
   "source": [
    "Check clusters categories"
   ]
  },
  {
   "cell_type": "code",
   "execution_count": 35,
   "metadata": {},
   "outputs": [
    {
     "name": "stdout",
     "output_type": "stream",
     "text": [
      "OK\n"
     ]
    }
   ],
   "source": [
    "assert len(cluster_categories), \"no clusters!\"\n",
    "\n",
    "for cluster in cluster_categories.values():\n",
    "    message = \"cluster \" + str(cluster.label)\n",
    "    assert len(cluster.d3_categories_sorted) == len(cluster.d3_categories_popularity), message \n",
    "    most_popular = cluster.d3_categories_sorted[0]\n",
    "    least_popular = cluster.d3_categories_sorted[len(cluster.d3_categories_sorted)-1]\n",
    "    assert cluster.d3_categories_popularity[most_popular] >= cluster.d3_categories_popularity[least_popular], message\n",
    "    \n",
    "print \"OK\""
   ]
  },
  {
   "cell_type": "code",
   "execution_count": null,
   "metadata": {
    "collapsed": true
   },
   "outputs": [],
   "source": []
  }
 ],
 "metadata": {
  "kernelspec": {
   "display_name": "Python [conda env:py27]",
   "language": "python",
   "name": "conda-env-py27-py"
  },
  "language_info": {
   "codemirror_mode": {
    "name": "ipython",
    "version": 2
   },
   "file_extension": ".py",
   "mimetype": "text/x-python",
   "name": "python",
   "nbconvert_exporter": "python",
   "pygments_lexer": "ipython2",
   "version": "2.7.14"
  }
 },
 "nbformat": 4,
 "nbformat_minor": 2
}
